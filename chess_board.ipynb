{
 "cells": [
  {
   "cell_type": "code",
   "execution_count": 1,
   "metadata": {},
   "outputs": [],
   "source": [
    "%matplotlib inline\n",
    "import numpy as np\n",
    "import matplotlib.pyplot as plt"
   ]
  },
  {
   "cell_type": "code",
   "execution_count": 2,
   "metadata": {},
   "outputs": [],
   "source": [
    "class Board:\n",
    "    def __init__(self):\n",
    "        self.board = np.ones([8,8,3])\n",
    "        for i in np.ndindex(8,8):\n",
    "            row = i[0]\n",
    "            col = i[1]\n",
    "            # if row%2==0 and col%2==1 or row%2==1 and col%2==0:\n",
    "            if row%2 != col%2:\n",
    "                self.board[row, col] = [0,0,0]\n",
    "            # print(i, self.board[i])\n",
    "\n",
    "    def add_red(self, row, col):\n",
    "        red_color = (255, 0, 0)\n",
    "        self.board[row][col] = red_color\n",
    "        # self.grid[row][col+1] = 0\n",
    "        self.red_color = [row, col]\n",
    "        # print(self.grid)\n",
    "\n",
    "    def add_blue(self, row, col):\n",
    "        blue_color = (0, 0, 255)\n",
    "        self.board[row][col] = blue_color\n",
    "        self.blue_color = [row, col]\n",
    "\n",
    "    def is_under_attack(self):        \n",
    "        if self.red_color[0] == self.blue_color[0] or self.red_color[1] == self.blue_color[1] or (self.blue_color[0]-self.red_color[0] == self.blue_color[1]-self.red_color[1]):\n",
    "            return True\n",
    "        else:\n",
    "            return False\n",
    "\n",
    "    def render(self):\n",
    "        plt.imshow(self.board)"
   ]
  },
  {
   "cell_type": "code",
   "execution_count": 3,
   "metadata": {
    "tags": []
   },
   "outputs": [
    {
     "name": "stderr",
     "output_type": "stream",
     "text": [
      "Clipping input data to the valid range for imshow with RGB data ([0..1] for floats or [0..255] for integers).\n"
     ]
    },
    {
     "data": {
      "text/plain": [
       "False"
      ]
     },
     "execution_count": 3,
     "metadata": {},
     "output_type": "execute_result"
    },
    {
     "data": {
      "image/png": "[encoded data removed]",
      "text/plain": [
       "<Figure size 432x288 with 1 Axes>"
      ]
     },
     "metadata": {
      "needs_background": "light"
     },
     "output_type": "display_data"
    }
   ],
   "source": [
    "board = Board()\n",
    "# print(board.grid)\n",
    "board.add_red(1, 5)\n",
    "board.add_blue(0,7)\n",
    "board.render()\n",
    "board.is_under_attack()"
   ]
  },
  {
   "cell_type": "code",
   "execution_count": 4,
   "metadata": {
    "tags": []
   },
   "outputs": [
    {
     "name": "stderr",
     "output_type": "stream",
     "text": [
      "Clipping input data to the valid range for imshow with RGB data ([0..1] for floats or [0..255] for integers).\n"
     ]
    },
    {
     "name": "stdout",
     "output_type": "stream",
     "text": [
      "True\n"
     ]
    },
    {
     "data": {
      "image/png": "[encoded data removed]",
      "text/plain": [
       "<Figure size 432x288 with 1 Axes>"
      ]
     },
     "metadata": {
      "needs_background": "light"
     },
     "output_type": "display_data"
    }
   ],
   "source": [
    "# on the same row\n",
    "b = Board()\n",
    "b.add_blue(1, 5)\n",
    "b.add_red(1, 7)\n",
    "print(b.is_under_attack())\n",
    "b.render()"
   ]
  },
  {
   "cell_type": "code",
   "execution_count": 5,
   "metadata": {
    "tags": []
   },
   "outputs": [
    {
     "name": "stdout",
     "output_type": "stream",
     "text": [
      "True\n"
     ]
    },
    {
     "name": "stderr",
     "output_type": "stream",
     "text": [
      "Clipping input data to the valid range for imshow with RGB data ([0..1] for floats or [0..255] for integers).\n"
     ]
    },
    {
     "data": {
      "image/png": "[encoded data removed]",
      "text/plain": [
       "<Figure size 432x288 with 1 Axes>"
      ]
     },
     "metadata": {
      "needs_background": "light"
     },
     "output_type": "display_data"
    }
   ],
   "source": [
    "# on the same Column\n",
    "b = Board()\n",
    "b.add_blue(0, 5)\n",
    "b.add_red(5, 5)\n",
    "print(b.is_under_attack())\n",
    "b.render()"
   ]
  },
  {
   "cell_type": "code",
   "execution_count": 6,
   "metadata": {
    "tags": []
   },
   "outputs": [
    {
     "name": "stderr",
     "output_type": "stream",
     "text": [
      "Clipping input data to the valid range for imshow with RGB data ([0..1] for floats or [0..255] for integers).\n"
     ]
    },
    {
     "name": "stdout",
     "output_type": "stream",
     "text": [
      "False\n"
     ]
    },
    {
     "data": {
      "image/png": "[encoded data removed]",
      "text/plain": [
       "<Figure size 432x288 with 1 Axes>"
      ]
     },
     "metadata": {
      "needs_background": "light"
     },
     "output_type": "display_data"
    }
   ],
   "source": [
    "b = Board()\n",
    "b.add_red(0,1)\n",
    "b.add_blue(4,3)\n",
    "print(b.is_under_attack())\n",
    "b.render()\n",
    "# assert b.is_under_attack() == False"
   ]
  },
  {
   "cell_type": "code",
   "execution_count": 7,
   "metadata": {
    "tags": []
   },
   "outputs": [
    {
     "name": "stderr",
     "output_type": "stream",
     "text": [
      "Clipping input data to the valid range for imshow with RGB data ([0..1] for floats or [0..255] for integers).\n"
     ]
    },
    {
     "name": "stdout",
     "output_type": "stream",
     "text": [
      "True\n"
     ]
    },
    {
     "data": {
      "image/png": "[encoded data removed]",
      "text/plain": [
       "<Figure size 432x288 with 1 Axes>"
      ]
     },
     "metadata": {
      "needs_background": "light"
     },
     "output_type": "display_data"
    }
   ],
   "source": [
    "b = Board()\n",
    "b.add_blue(4, 4)\n",
    "b.add_red(0, 0)\n",
    "assert b.is_under_attack() == True\n",
    "print(b.is_under_attack())\n",
    "b.render()"
   ]
  },
  {
   "cell_type": "code",
   "execution_count": null,
   "metadata": {},
   "outputs": [],
   "source": []
  }
 ],
 "metadata": {
  "interpreter": {
   "hash": "02d9a388702c384ce283bc7129103b51e3f650fb97ec5deb93ca03639797cd0b"
  },
  "kernelspec": {
   "display_name": "Python 3 (ipykernel)",
   "language": "python",
   "name": "python3"
  },
  "language_info": {
   "codemirror_mode": {
    "name": "ipython",
    "version": 3
   },
   "file_extension": ".py",
   "mimetype": "text/x-python",
   "name": "python",
   "nbconvert_exporter": "python",
   "pygments_lexer": "ipython3",
   "version": "3.9.5"
  }
 },
 "nbformat": 4,
 "nbformat_minor": 4
}
